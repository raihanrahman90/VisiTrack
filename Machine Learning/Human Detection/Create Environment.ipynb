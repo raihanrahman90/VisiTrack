{
 "cells": [
  {
   "cell_type": "code",
   "execution_count": 1,
   "id": "f4b666c3",
   "metadata": {},
   "outputs": [
    {
     "name": "stdout",
     "output_type": "stream",
     "text": [
      "^C\n"
     ]
    }
   ],
   "source": [
    "!conda install -c conda-forge tensorflow"
   ]
  },
  {
   "cell_type": "code",
   "execution_count": null,
   "id": "9c0362bf",
   "metadata": {},
   "outputs": [],
   "source": [
    "!conda install -c anaconda ipykernel"
   ]
  },
  {
   "cell_type": "code",
   "execution_count": 2,
   "id": "ce4eeb16",
   "metadata": {},
   "outputs": [
    {
     "name": "stdout",
     "output_type": "stream",
     "text": [
      "Installed kernelspec env3.7 in C:\\Users\\Asus\\AppData\\Roaming\\jupyter\\kernels\\env3.7\n"
     ]
    }
   ],
   "source": [
    "!python -m ipykernel install --user --name=env3.7"
   ]
  },
  {
   "cell_type": "code",
   "execution_count": null,
   "id": "395e929c",
   "metadata": {},
   "outputs": [],
   "source": []
  }
 ],
 "metadata": {
  "kernelspec": {
   "display_name": "Python 3",
   "language": "python",
   "name": "python3"
  },
  "language_info": {
   "codemirror_mode": {
    "name": "ipython",
    "version": 3
   },
   "file_extension": ".py",
   "mimetype": "text/x-python",
   "name": "python",
   "nbconvert_exporter": "python",
   "pygments_lexer": "ipython3",
   "version": "3.8.8"
  }
 },
 "nbformat": 4,
 "nbformat_minor": 5
}
